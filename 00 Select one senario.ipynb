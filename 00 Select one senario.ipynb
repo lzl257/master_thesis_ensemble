{
 "cells": [
  {
   "cell_type": "code",
   "execution_count": 5,
   "metadata": {
    "hideCode": false,
    "hidePrompt": false,
    "hide_input": true,
    "init_cell": true
   },
   "outputs": [
    {
     "data": {
      "application/javascript": [
       "IPython.notebook.execute_cells_below()"
      ],
      "text/plain": [
       "<IPython.core.display.Javascript object>"
      ]
     },
     "metadata": {},
     "output_type": "display_data"
    }
   ],
   "source": [
    "# Store the senario variable for sharing it among notebooks\n",
    "import json\n",
    "from IPython.display import display, clear_output, Javascript\n",
    "from ipywidgets.widgets import Output, Dropdown\n",
    "from ipywidgets import interact\n",
    "\n",
    "display(Javascript('IPython.notebook.execute_cells_below()'))"
   ]
  },
  {
   "cell_type": "code",
   "execution_count": 3,
   "metadata": {
    "hideCode": false,
    "hidePrompt": false,
    "hide_input": true
   },
   "outputs": [],
   "source": [
    "def listen(senario, T0):\n",
    "    selection = {'senario': senario, 'T0': T0}  \n",
    "    with open('src/senario_selection.json', 'w', encoding='utf-8') as file:\n",
    "        json.dump(selection, file)"
   ]
  },
  {
   "cell_type": "markdown",
   "metadata": {
    "hideCode": false,
    "hidePrompt": false,
    "hide_input": false
   },
   "source": [
    "## Please select one senario you are interested in and also set $T_0$"
   ]
  },
  {
   "cell_type": "code",
   "execution_count": 4,
   "metadata": {
    "hideCode": false,
    "hideOutput": false,
    "hidePrompt": false,
    "hide_input": true
   },
   "outputs": [
    {
     "data": {
      "application/vnd.jupyter.widget-view+json": {
       "model_id": "d1e384c4662d445e81975a21cd883ae3",
       "version_major": 2,
       "version_minor": 0
      },
      "text/plain": [
       "Output()"
      ]
     },
     "metadata": {},
     "output_type": "display_data"
    }
   ],
   "source": [
    "out = Output()\n",
    "with out:\n",
    "    source = Dropdown(options=['A', 'B', 'C', 'D'], value='D', description='Senario: ')\n",
    "    time = Dropdown(options=[4, 8, 12, 15, 18, 22, 24, 28], value=24, description='$T_0$: ')\n",
    "    interact(listen, senario=source, T0=time)\n",
    "\n",
    "display(out)"
   ]
  },
  {
   "cell_type": "markdown",
   "metadata": {},
   "source": [
    "Click here to go to [01 Data generating process](01%20Data%20generating%20process.ipynb)"
   ]
  }
 ],
 "metadata": {
  "kernelspec": {
   "display_name": "Python 3",
   "language": "python",
   "name": "python3"
  },
  "language_info": {
   "codemirror_mode": {
    "name": "ipython",
    "version": 3
   },
   "file_extension": ".py",
   "mimetype": "text/x-python",
   "name": "python",
   "nbconvert_exporter": "python",
   "pygments_lexer": "ipython3",
   "version": "3.8.2"
  }
 },
 "nbformat": 4,
 "nbformat_minor": 2
}
