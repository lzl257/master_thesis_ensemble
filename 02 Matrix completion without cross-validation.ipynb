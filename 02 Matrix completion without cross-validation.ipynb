{
 "cells": [
  {
   "cell_type": "code",
   "execution_count": 1,
   "metadata": {},
   "outputs": [
    {
     "name": "stderr",
     "output_type": "stream",
     "text": [
      "Installing package into 'C:/Users/lzl25/Documents/R/win-library/3.6'\n",
      "(as 'lib' is unspecified)\n"
     ]
    },
    {
     "name": "stdout",
     "output_type": "stream",
     "text": [
      "package 'devtools' successfully unpacked and MD5 sums checked\n",
      "\n",
      "The downloaded binary packages are in\n",
      "\tC:\\Users\\lzl25\\AppData\\Local\\Temp\\RtmpW8x4Aq\\downloaded_packages\n"
     ]
    },
    {
     "name": "stderr",
     "output_type": "stream",
     "text": [
      "Installing package into 'C:/Users/lzl25/Documents/R/win-library/3.6'\n",
      "(as 'lib' is unspecified)\n"
     ]
    },
    {
     "name": "stdout",
     "output_type": "stream",
     "text": [
      "package 'latex2exp' successfully unpacked and MD5 sums checked\n",
      "\n",
      "The downloaded binary packages are in\n",
      "\tC:\\Users\\lzl25\\AppData\\Local\\Temp\\RtmpW8x4Aq\\downloaded_packages\n"
     ]
    },
    {
     "name": "stderr",
     "output_type": "stream",
     "text": [
      "Warning message:\n",
      "\"package 'devtools' was built under R version 3.6.3\"Loading required package: usethis\n",
      "Skipping install of 'MCPanel' from a github remote, the SHA1 (6b2706fd) has not changed since last install.\n",
      "  Use `force = TRUE` to force installation\n",
      "Installing package into 'C:/Users/lzl25/Documents/R/win-library/3.6'\n",
      "(as 'lib' is unspecified)\n"
     ]
    },
    {
     "name": "stdout",
     "output_type": "stream",
     "text": [
      "package 'rjson' successfully unpacked and MD5 sums checked\n"
     ]
    },
    {
     "name": "stderr",
     "output_type": "stream",
     "text": [
      "Warning message:\n",
      "\"cannot remove prior installation of package 'rjson'\"Warning message in file.copy(savedcopy, lib, recursive = TRUE):\n",
      "\"拷贝C:\\Users\\lzl25\\Documents\\R\\win-library\\3.6\\00LOCK\\rjson\\libs\\x64\\rjson.dll到C:\\Users\\lzl25\\Documents\\R\\win-library\\3.6\\rjson\\libs\\x64\\rjson.dll时出了问题：Permission denied \"Warning message:\n",
      "\"restored 'rjson'\""
     ]
    },
    {
     "name": "stdout",
     "output_type": "stream",
     "text": [
      "\n",
      "The downloaded binary packages are in\n",
      "\tC:\\Users\\lzl25\\AppData\\Local\\Temp\\RtmpW8x4Aq\\downloaded_packages\n"
     ]
    }
   ],
   "source": [
    "## (Temp) Install packages\n",
    "install.packages('devtools')\n",
    "install.packages('latex2exp')\n",
    "library(devtools)\n",
    "install_github('susanathey/MCPanel')\n",
    "install.packages('rjson')"
   ]
  },
  {
   "cell_type": "markdown",
   "metadata": {},
   "source": [
    "## Loading source files\n",
    "\n",
    "To implement matrix completion method R package [susanathey/MCPanel](https://github.com/susanathey/MCPanel) is used."
   ]
  },
  {
   "cell_type": "code",
   "execution_count": 2,
   "metadata": {},
   "outputs": [],
   "source": [
    "library(MCPanel)\n",
    "library(glue)\n",
    "library(gtools)\n",
    "library(rjson)"
   ]
  },
  {
   "cell_type": "markdown",
   "metadata": {},
   "source": [
    "## Check which senario we are using"
   ]
  },
  {
   "cell_type": "code",
   "execution_count": 3,
   "metadata": {},
   "outputs": [
    {
     "name": "stdout",
     "output_type": "stream",
     "text": [
      "We are using senario D with T0 = 24\n"
     ]
    }
   ],
   "source": [
    "senario <- fromJSON(file = \"src/senario_selection.json\")$senario\n",
    "T0 <- fromJSON(file = \"src/senario_selection.json\")$T0\n",
    "print(glue('We are using senario ', senario, ' with T0 = {T0}'))"
   ]
  },
  {
   "cell_type": "markdown",
   "metadata": {},
   "source": [
    "## Loading data"
   ]
  },
  {
   "cell_type": "code",
   "execution_count": 4,
   "metadata": {},
   "outputs": [],
   "source": [
    "# Path to control and true untreated data\n",
    "path_control <- glue('src/Senario{senario}/control/')\n",
    "path_untreat <- glue('src/Senario{senario}/untreat/')\n",
    "\n",
    "# List the filenames for data\n",
    "filenames_control <- mixedsort(list.files(path = path_control))\n",
    "filenames_untreat <- mixedsort(list.files(path = path_untreat))\n",
    "\n",
    "# Loading data\n",
    "control_data <- list()\n",
    "for(i in 1:length(filenames_control)){\n",
    "  data <- read.csv(paste(path_control,filenames_control[i], sep = ''))\n",
    "  control_data[[i]] <- data\n",
    "}\n",
    "\n",
    "untreat_data <- list()\n",
    "for(i in 1:length(filenames_untreat)){\n",
    "  data <- read.csv(paste(path_untreat,filenames_untreat[i], sep = ''))\n",
    "  untreat_data[[i]] <- data\n",
    "}"
   ]
  },
  {
   "cell_type": "markdown",
   "metadata": {},
   "source": [
    "## Estimating counterfactual outcomes using MC method"
   ]
  },
  {
   "cell_type": "code",
   "execution_count": 5,
   "metadata": {},
   "outputs": [],
   "source": [
    "# Combine control and treated units to form a complete matrix.\n",
    "comb_data <- list()\n",
    "for(i in 1:length(filenames_control)){\n",
    "  data_con <- control_data[[i]]\n",
    "  data_tre <- t(untreat_data[[i]])\n",
    "  colnames(data_tre) <- colnames(data_con)\n",
    "  comb_data[[i]] <- rbind(data_con, data_tre)\n",
    "}"
   ]
  },
  {
   "cell_type": "code",
   "execution_count": 6,
   "metadata": {
    "scrolled": true
   },
   "outputs": [
    {
     "name": "stdout",
     "output_type": "stream",
     "text": [
      "1th implementation starts\n",
      "2th implementation starts\n",
      "3th implementation starts\n",
      "4th implementation starts\n",
      "5th implementation starts\n",
      "6th implementation starts\n",
      "7th implementation starts\n",
      "8th implementation starts\n",
      "9th implementation starts\n",
      "10th implementation starts\n",
      "11th implementation starts\n",
      "12th implementation starts\n",
      "13th implementation starts\n",
      "14th implementation starts\n",
      "15th implementation starts\n",
      "16th implementation starts\n",
      "17th implementation starts\n",
      "18th implementation starts\n",
      "19th implementation starts\n",
      "20th implementation starts\n",
      "21th implementation starts\n",
      "22th implementation starts\n",
      "23th implementation starts\n",
      "24th implementation starts\n",
      "25th implementation starts\n",
      "26th implementation starts\n",
      "27th implementation starts\n",
      "28th implementation starts\n",
      "29th implementation starts\n",
      "30th implementation starts\n",
      "31th implementation starts\n",
      "32th implementation starts\n",
      "33th implementation starts\n",
      "34th implementation starts\n",
      "35th implementation starts\n",
      "36th implementation starts\n",
      "37th implementation starts\n",
      "38th implementation starts\n",
      "39th implementation starts\n",
      "40th implementation starts\n",
      "41th implementation starts\n",
      "42th implementation starts\n",
      "43th implementation starts\n",
      "44th implementation starts\n",
      "45th implementation starts\n",
      "46th implementation starts\n",
      "47th implementation starts\n",
      "48th implementation starts\n",
      "49th implementation starts\n",
      "50th implementation starts\n",
      "51th implementation starts\n",
      "52th implementation starts\n",
      "53th implementation starts\n",
      "54th implementation starts\n",
      "55th implementation starts\n",
      "56th implementation starts\n",
      "57th implementation starts\n",
      "58th implementation starts\n",
      "59th implementation starts\n",
      "60th implementation starts\n",
      "61th implementation starts\n",
      "62th implementation starts\n",
      "63th implementation starts\n",
      "64th implementation starts\n",
      "65th implementation starts\n",
      "66th implementation starts\n",
      "67th implementation starts\n",
      "68th implementation starts\n",
      "69th implementation starts\n",
      "70th implementation starts\n",
      "71th implementation starts\n",
      "72th implementation starts\n",
      "73th implementation starts\n",
      "74th implementation starts\n",
      "75th implementation starts\n",
      "76th implementation starts\n",
      "77th implementation starts\n",
      "78th implementation starts\n",
      "79th implementation starts\n",
      "80th implementation starts\n",
      "81th implementation starts\n",
      "82th implementation starts\n",
      "83th implementation starts\n",
      "84th implementation starts\n",
      "85th implementation starts\n",
      "86th implementation starts\n",
      "87th implementation starts\n",
      "88th implementation starts\n",
      "89th implementation starts\n",
      "90th implementation starts\n",
      "91th implementation starts\n",
      "92th implementation starts\n",
      "93th implementation starts\n",
      "94th implementation starts\n",
      "95th implementation starts\n",
      "96th implementation starts\n",
      "97th implementation starts\n",
      "98th implementation starts\n",
      "99th implementation starts\n",
      "100th implementation starts\n"
     ]
    }
   ],
   "source": [
    "# Implement MC.\n",
    "for(i in 1:length(comb_data)){\n",
    "  print(glue(\"{i}th implementation starts\"))\n",
    "  flush.console()\n",
    "  data <- comb_data[[i]]\n",
    "  N <- nrow(data)\n",
    "  T <- ncol(data)\n",
    "  treat_mat <- matrix(1, N, T)\n",
    "  treat_mat[N, (T0 + 1):T] <- 0\n",
    "  data_obs <- data * treat_mat\n",
    "  \n",
    "  est_model_MCPanel <- mcnnm_cv(as.matrix(data_obs), treat_mat, to_estimate_u = 1, to_estimate_v = 1)\n",
    "  Mhat <- est_model_MCPanel$L + replicate(T,est_model_MCPanel$u) + t(replicate(N,est_model_MCPanel$v))\n",
    "  \n",
    "  file_mc = glue('mc_imputed_{i}')\n",
    "  write.table(Mhat, file=glue('base_learners/mc_counterfactual/{file_mc}.csv'),\n",
    "              row.names=FALSE, col.names=TRUE, sep=',')\n",
    "  \n",
    "}"
   ]
  },
  {
   "cell_type": "markdown",
   "metadata": {},
   "source": [
    "Click here to go to [03 Estimate counterfactual outcomes for each base learner](03%20Estimate%20counterfactual%20outcomes%20for%20each%20base%20learner.ipynb)"
   ]
  }
 ],
 "metadata": {
  "kernelspec": {
   "display_name": "R",
   "language": "R",
   "name": "ir"
  },
  "language_info": {
   "codemirror_mode": "r",
   "file_extension": ".r",
   "mimetype": "text/x-r-source",
   "name": "R",
   "pygments_lexer": "r",
   "version": "3.6.1"
  }
 },
 "nbformat": 4,
 "nbformat_minor": 2
}
