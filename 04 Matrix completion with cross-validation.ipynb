{
 "cells": [
  {
   "cell_type": "markdown",
   "metadata": {},
   "source": [
    "## Loading source files"
   ]
  },
  {
   "cell_type": "code",
   "execution_count": 1,
   "metadata": {},
   "outputs": [],
   "source": [
    "library(MCPanel)\n",
    "library(glue)\n",
    "library(gtools)\n",
    "library(rjson)"
   ]
  },
  {
   "cell_type": "markdown",
   "metadata": {},
   "source": [
    "## Check which senario we are using"
   ]
  },
  {
   "cell_type": "code",
   "execution_count": 2,
   "metadata": {},
   "outputs": [
    {
     "name": "stdout",
     "output_type": "stream",
     "text": [
      "We are using senario D with T0 = 24\n"
     ]
    }
   ],
   "source": [
    "senario <- fromJSON(file = \"src/senario_selection.json\")$senario\n",
    "T0 <- fromJSON(file = \"src/senario_selection.json\")$T0\n",
    "print(glue('We are using senario ', senario, ' with T0 = {T0}'))"
   ]
  },
  {
   "cell_type": "markdown",
   "metadata": {},
   "source": [
    "## Loading data and perform leave-one-out cross-validation in control units"
   ]
  },
  {
   "cell_type": "code",
   "execution_count": 3,
   "metadata": {
    "scrolled": true
   },
   "outputs": [
    {
     "name": "stdout",
     "output_type": "stream",
     "text": [
      "1th implementation starts\n",
      "2th implementation starts\n",
      "3th implementation starts\n",
      "4th implementation starts\n",
      "5th implementation starts\n",
      "6th implementation starts\n",
      "7th implementation starts\n",
      "8th implementation starts\n",
      "9th implementation starts\n",
      "10th implementation starts\n",
      "11th implementation starts\n",
      "12th implementation starts\n",
      "13th implementation starts\n",
      "14th implementation starts\n",
      "15th implementation starts\n",
      "16th implementation starts\n",
      "17th implementation starts\n",
      "18th implementation starts\n",
      "19th implementation starts\n",
      "20th implementation starts\n",
      "21th implementation starts\n",
      "22th implementation starts\n",
      "23th implementation starts\n",
      "24th implementation starts\n",
      "25th implementation starts\n",
      "26th implementation starts\n",
      "27th implementation starts\n",
      "28th implementation starts\n",
      "29th implementation starts\n",
      "30th implementation starts\n",
      "31th implementation starts\n",
      "32th implementation starts\n",
      "33th implementation starts\n",
      "34th implementation starts\n",
      "35th implementation starts\n",
      "36th implementation starts\n",
      "37th implementation starts\n",
      "38th implementation starts\n",
      "39th implementation starts\n",
      "40th implementation starts\n",
      "41th implementation starts\n",
      "42th implementation starts\n",
      "43th implementation starts\n",
      "44th implementation starts\n",
      "45th implementation starts\n",
      "46th implementation starts\n",
      "47th implementation starts\n",
      "48th implementation starts\n",
      "49th implementation starts\n",
      "50th implementation starts\n",
      "51th implementation starts\n",
      "52th implementation starts\n",
      "53th implementation starts\n",
      "54th implementation starts\n",
      "55th implementation starts\n",
      "56th implementation starts\n",
      "57th implementation starts\n",
      "58th implementation starts\n",
      "59th implementation starts\n",
      "60th implementation starts\n",
      "61th implementation starts\n",
      "62th implementation starts\n",
      "63th implementation starts\n",
      "64th implementation starts\n",
      "65th implementation starts\n",
      "66th implementation starts\n",
      "67th implementation starts\n",
      "68th implementation starts\n",
      "69th implementation starts\n",
      "70th implementation starts\n",
      "71th implementation starts\n",
      "72th implementation starts\n",
      "73th implementation starts\n",
      "74th implementation starts\n",
      "75th implementation starts\n",
      "76th implementation starts\n",
      "77th implementation starts\n",
      "78th implementation starts\n",
      "79th implementation starts\n",
      "80th implementation starts\n",
      "81th implementation starts\n",
      "82th implementation starts\n",
      "83th implementation starts\n",
      "84th implementation starts\n",
      "85th implementation starts\n",
      "86th implementation starts\n",
      "87th implementation starts\n",
      "88th implementation starts\n",
      "89th implementation starts\n",
      "90th implementation starts\n",
      "91th implementation starts\n",
      "92th implementation starts\n",
      "93th implementation starts\n",
      "94th implementation starts\n",
      "95th implementation starts\n",
      "96th implementation starts\n",
      "97th implementation starts\n",
      "98th implementation starts\n",
      "99th implementation starts\n",
      "100th implementation starts\n"
     ]
    }
   ],
   "source": [
    "# Path to control data.\n",
    "path_control <- glue('src/Senario{senario}/control/')\n",
    "\n",
    "# List the filenames for data.\n",
    "filenames_control <- mixedsort(list.files(path = path_control))\n",
    "sample_size <- length(filenames_control)\n",
    "\n",
    "for(sample_idx in 1:sample_size){\n",
    "  print(glue(\"{sample_idx}th implementation starts\"))\n",
    "  flush.console()\n",
    "  control_sample <- glue(path_control, 'sim_data_control_{sample_idx}.csv')\n",
    "  control_data <- read.csv(control_sample)\n",
    "  \n",
    "  # Rolling data: roll the first unit to the last row, and implement MC method to estimate.\n",
    "  N <- nrow(control_data)\n",
    "  T <- ncol(control_data)\n",
    "  \n",
    "  mc_fake_hat <- matrix(0, N, (T-T0))\n",
    "  for(i in 1:N){\n",
    "    control_roll <- rbind(control_data[(-1):(-i),], control_data[1:i,])\n",
    "    rownames(control_roll) <- 1:N\n",
    "    \n",
    "    treat_mat <- matrix(1, N, T)\n",
    "    treat_mat[N, (T0 + 1):T] <- 0\n",
    "    fake_obs <- control_roll * treat_mat\n",
    "    \n",
    "    # Implement MC.\n",
    "    est_model_MCPanel <- mcnnm_cv(as.matrix(control_roll), treat_mat, to_estimate_u = 1, to_estimate_v = 1)\n",
    "    Mhat <- est_model_MCPanel$L + replicate(T,est_model_MCPanel$u) + t(replicate(N,est_model_MCPanel$v))\n",
    "    \n",
    "    mc_fake_hat[i,] <- Mhat[N, (T0+1):T]\n",
    "  }\n",
    "  \n",
    "  write.table(mc_fake_hat, file=glue('meta_learner/ensemble_mc/mc_hat_temp_{sample_idx}.csv'),\n",
    "              row.names=FALSE, col.names=TRUE, sep=',')\n",
    "}"
   ]
  },
  {
   "cell_type": "markdown",
   "metadata": {},
   "source": [
    "Click here to go to [05 Stacking base learners](05%20Stacking%20base%20learners.ipynb)"
   ]
  }
 ],
 "metadata": {
  "kernelspec": {
   "display_name": "R",
   "language": "R",
   "name": "ir"
  },
  "language_info": {
   "codemirror_mode": "r",
   "file_extension": ".r",
   "mimetype": "text/x-r-source",
   "name": "R",
   "pygments_lexer": "r",
   "version": "3.6.1"
  }
 },
 "nbformat": 4,
 "nbformat_minor": 2
}
